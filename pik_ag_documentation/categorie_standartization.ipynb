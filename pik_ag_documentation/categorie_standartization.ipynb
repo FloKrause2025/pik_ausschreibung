{
 "cells": [
  {
   "cell_type": "markdown",
   "id": "0d4a1d6c",
   "metadata": {},
   "source": [
    "## Product Category Standardization using OpenAI GPT-4\n",
    "\n"
   ]
  },
  {
   "cell_type": "markdown",
   "id": "638c05e0",
   "metadata": {},
   "source": [
    "# Product Category Standardization\n",
    "\n",
    "This notebook demonstrates how to use OpenAI's GPT-4 to assign products to a fixed set of standard categories.  \n",
    "Given a product's description, name, and brand, the script will suggest the most suitable category from a predefined list.  \n",
    "This approach helps ensure consistent product categorization across large, diverse inventories.\n"
   ]
  },
  {
   "cell_type": "markdown",
   "id": "21f77315",
   "metadata": {},
   "source": [
    "## Prerequisites\n",
    "\n",
    "- Python 3.8+\n",
    "- `openai` Python package (for GPT-4 API access)\n",
    "- Your OpenAI API key\n",
    "\n",
    "Install OpenAI SDK:\n",
    "!pip install openai\n"
   ]
  },
  {
   "cell_type": "markdown",
   "id": "acc23694",
   "metadata": {},
   "source": [
    "## Standard Categories\n",
    "\n",
    "The following categories are used for classification. The AI must pick exactly one from this list:\n",
    "STANDARD_CATEGORIES = [\n",
    "    \"Electronics - Audio\",\n",
    "    \"Electronics - Microphones\",\n",
    "    \"Electronics - Speakers\",\n",
    "    \"Electronics - Amplifiers & DSP\",\n",
    "    \"Electronics - Video Equipment\",\n",
    "    \"Electronics - Displays & Screens\",\n",
    "    \"Electronics - Projectors & Projection Screens\",\n",
    "    \"Electronics - Cameras\",\n",
    "    \"Electronics - Video Conferencing\",\n",
    "    \"Electronics - Media Control Systems\",\n",
    "    \"Electronics - Control Panels & Touchpanels\",\n",
    "    \"Electronics - Signal Management & Switchers\",\n",
    "    \"Electronics - AV Networking\",\n",
    "    \"Electronics - Cables & Connectors\",\n",
    "    \"Electronics - Power Distribution\",\n",
    "    \"Electronics - Racks & Mounts\",\n",
    "    \"Electronics - Media Furniture\",\n",
    "    \"Electronics - Lighting\",\n",
    "    \"Electronics - Recording Devices\",\n",
    "    \"Electronics - Translation & Interpreter Systems\",\n",
    "    \"Electronics - Assistive Listening\",\n",
    "    \"Office Supplies\",\n",
    "    \"Furniture\",\n",
    "    \"Tools & Hardware\",\n",
    "    \"Construction Materials\",\n",
    "    \"Lighting\",\n",
    "    \"Security Equipment\",\n",
    "    \"Network Equipment\",\n",
    "    \"Storage & Organization\",\n",
    "    \"Other\"\n",
    "]\n"
   ]
  },
  {
   "cell_type": "code",
   "execution_count": null,
   "id": "1c2c574d",
   "metadata": {
    "vscode": {
     "languageId": "plaintext"
    }
   },
   "outputs": [],
   "source": [
    "from openai import OpenAI\n",
    "\n",
    "def standardize_category(product_description, product_name, brand, client):\n",
    "    \"\"\"\n",
    "    Assign a product to a standard category using GPT-4.\n",
    "\n",
    "    Args:\n",
    "        product_description (str): The product's description.\n",
    "        product_name (str): The product's name.\n",
    "        brand (str): The product's brand.\n",
    "        client (OpenAI): An initialized OpenAI client.\n",
    "\n",
    "    Returns:\n",
    "        str: The chosen standard category.\n",
    "    \"\"\"\n",
    "    categories_list = \"\\n\".join([f\"- {cat}\" for cat in STANDARD_CATEGORIES])\n",
    "    \n",
    "    prompt = f\"\"\"\n",
    "You must classify this product into EXACTLY ONE category from the provided list. Do not create new categories.\n",
    "\n",
    "Product Information:\n",
    "- Brand: {brand}\n",
    "- Product Name: {product_name}  \n",
    "- Description: {product_description}\n",
    "\n",
    "Available Categories (choose EXACTLY ONE):\n",
    "{categories_list}\n",
    "\n",
    "Rules:\n",
    "1. Choose the MOST SPECIFIC category that fits\n",
    "2. Use EXACT category name from the list\n",
    "3. If unsure, choose \"Other\"\n",
    "4. Return ONLY the category name, nothing else\n",
    "\n",
    "Category:\n",
    "\"\"\"\n",
    "\n",
    "    try:\n",
    "        response = client.chat.completions.create(\n",
    "            model=\"gpt-4o\",\n",
    "            messages=[\n",
    "                {\"role\": \"system\", \"content\": \"You are a product categorization expert. Always choose exactly one category from the provided list. Never create new categories.\"},\n",
    "                {\"role\": \"user\", \"content\": prompt}\n",
    "            ],\n",
    "            temperature=0\n",
    "        )\n",
    "        \n",
    "        suggested_category = response.choices[0].message.content.strip()\n",
    "        \n",
    "        # Validate the category is in our standard list\n",
    "        if suggested_category in STANDARD_CATEGORIES:\n",
    "            return suggested_category\n",
    "        else:\n",
    "            # If AI returned something not in our list, find closest match or default to \"Other\"\n",
    "            for standard_cat in STANDARD_CATEGORIES:\n",
    "                if suggested_category.lower() in standard_cat.lower() or standard_cat.lower() in suggested_category.lower():\n",
    "                    print(f\"    🔧 Corrected '{suggested_category}' → '{standard_cat}'\")\n",
    "                    return standard_cat\n",
    "            \n",
    "            print(f\"    ⚠️  Unknown category '{suggested_category}' → using 'Other'\")\n",
    "            return \"Other\"\n",
    "            \n",
    "    except Exception as e:\n",
    "        print(f\"    ❌ Category error: {e}\")\n",
    "        return \"Other\"\n"
   ]
  },
  {
   "cell_type": "markdown",
   "id": "74260671",
   "metadata": {},
   "source": [
    "## Example: Categorizing a Product\n",
    "\n",
    "Below, we provide an example of how to use the `standardize_category` function to classify a product.\n"
   ]
  },
  {
   "cell_type": "code",
   "execution_count": null,
   "id": "2eb8ec6e",
   "metadata": {
    "vscode": {
     "languageId": "plaintext"
    }
   },
   "outputs": [],
   "source": [
    "# Initialize the OpenAI client with your API key\n",
    "client = OpenAI(api_key=\"sk-...\")\n",
    "\n",
    "# Example product details\n",
    "product_description = \"Professional condenser microphone with XLR input and noise cancellation.\"\n",
    "product_name = \"ProMic 3000\"\n",
    "brand = \"AudioX\"\n",
    "\n",
    "category = standardize_category(product_description, product_name, brand, client)\n",
    "print(f\"Assigned Category: {category}\")\n"
   ]
  }
 ],
 "metadata": {
  "language_info": {
   "name": "python"
  }
 },
 "nbformat": 4,
 "nbformat_minor": 5
}
